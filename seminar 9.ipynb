{
 "cells": [
  {
   "cell_type": "markdown",
   "id": "f8bd91f8",
   "metadata": {},
   "source": [
    "seminar 09"
   ]
  },
  {
   "cell_type": "code",
   "execution_count": 1,
   "id": "171e9487",
   "metadata": {},
   "outputs": [
    {
     "ename": "SyntaxError",
     "evalue": "invalid non-printable character U+00A0 (2590624587.py, line 8)",
     "output_type": "error",
     "traceback": [
      "\u001b[1;36m  Cell \u001b[1;32mIn[1], line 8\u001b[1;36m\u001b[0m\n\u001b[1;33m    result_list = [len(item) for item in l1]\u001b[0m\n\u001b[1;37m                                     ^\u001b[0m\n\u001b[1;31mSyntaxError\u001b[0m\u001b[1;31m:\u001b[0m invalid non-printable character U+00A0\n"
     ]
    }
   ],
   "source": [
    "'''l1 = ['1', '123', '123', '12', '1', '123']\n",
    "l2 = [2, 4, -2, -3, 0 , 11 , 3 -1]\n",
    "​\n",
    "d4 = {1: 10, 2: 20, 3: 30, 4: 40, 5: 50, 6: 60}\n",
    "d5 = {'a': 3, 'b': 4, 'c': 5, 'd': 6, 'e': 7, 'f': 8, 'g': 9}\n",
    "d6 = {'e': 20, 'f': 21, 'g': 22, 'h': 23, 'i': 24, 'j': 25, 'k': 26, 'l': 27}\n",
    "4.13) Используюя список l1 создать список, в ктором каждый элемент списка l1 будет заменен значением длинны строки соответствующего элемента в списке l1. Использовать генераторы, решить задачу в одну строку.'''\n",
    "result_list = [len(item) for item in l1]"
   ]
  },
  {
   "cell_type": "code",
   "execution_count": 2,
   "id": "c4bf5eae",
   "metadata": {},
   "outputs": [
    {
     "ename": "SyntaxError",
     "evalue": "invalid non-printable character U+00A0 (593995355.py, line 2)",
     "output_type": "error",
     "traceback": [
      "\u001b[1;36m  Cell \u001b[1;32mIn[2], line 2\u001b[1;36m\u001b[0m\n\u001b[1;33m    count_strings = sum(1 for item in l1 if len(item) > 2)\u001b[0m\n\u001b[1;37m                                                     ^\u001b[0m\n\u001b[1;31mSyntaxError\u001b[0m\u001b[1;31m:\u001b[0m invalid non-printable character U+00A0\n"
     ]
    }
   ],
   "source": [
    "#4.14) Подсчитать количество строк в списке l1, длина которых больше 2х. Использовать генераторы, решить задачу в одну строку.\n",
    "count_strings = sum(1 for item in l1 if len(item) > 2)"
   ]
  },
  {
   "cell_type": "code",
   "execution_count": 3,
   "id": "aeabc385",
   "metadata": {},
   "outputs": [
    {
     "ename": "SyntaxError",
     "evalue": "invalid non-printable character U+00A0 (3883670239.py, line 2)",
     "output_type": "error",
     "traceback": [
      "\u001b[1;36m  Cell \u001b[1;32mIn[3], line 2\u001b[1;36m\u001b[0m\n\u001b[1;33m    result_list = [num * index if isinstance(num, (int, float)) else num for index, num in enumerate(l2)]\u001b[0m\n\u001b[1;37m                                                                                          ^\u001b[0m\n\u001b[1;31mSyntaxError\u001b[0m\u001b[1;31m:\u001b[0m invalid non-printable character U+00A0\n"
     ]
    }
   ],
   "source": [
    "#4.17) Создать список, в котором все числа списка l2 умножены на их номер в списке, остальные элементы сохранены на своих местах. Использовать генераторы, решить задачу в одну строку.\n",
    "result_list = [num * index if isinstance(num, (int, float)) else num for index, num in enumerate(l2)]"
   ]
  },
  {
   "cell_type": "code",
   "execution_count": 4,
   "id": "56a1dfc0",
   "metadata": {},
   "outputs": [
    {
     "ename": "SyntaxError",
     "evalue": "invalid non-printable character U+00A0 (1384580994.py, line 2)",
     "output_type": "error",
     "traceback": [
      "\u001b[1;36m  Cell \u001b[1;32mIn[4], line 2\u001b[1;36m\u001b[0m\n\u001b[1;33m    result_list = [num for num in l2 if num >= 0]\u001b[0m\n\u001b[1;37m                                           ^\u001b[0m\n\u001b[1;31mSyntaxError\u001b[0m\u001b[1;31m:\u001b[0m invalid non-printable character U+00A0\n"
     ]
    }
   ],
   "source": [
    "#4.18) Создать список, в котором все отрицательные числа списка l2 исключены, остальные элементы сохранены на своих местах. Использовать генераторы, решить задачу в одну строку.\n",
    "result_list = [num for num in l2 if num >= 0]"
   ]
  },
  {
   "cell_type": "code",
   "execution_count": 5,
   "id": "6d8a7278",
   "metadata": {},
   "outputs": [
    {
     "ename": "NameError",
     "evalue": "name 'l2' is not defined",
     "output_type": "error",
     "traceback": [
      "\u001b[1;31m---------------------------------------------------------------------------\u001b[0m",
      "\u001b[1;31mNameError\u001b[0m                                 Traceback (most recent call last)",
      "Cell \u001b[1;32mIn[5], line 2\u001b[0m\n\u001b[0;32m      1\u001b[0m \u001b[38;5;66;03m#4.19) Создать список, в котором все отрицательные числа списка l2 заменены на их номер в списке, остальные элементы сохранены на своих местах. Использовать генераторы и тернарный оператор, решить задачу в одну строку.\u001b[39;00m\n\u001b[1;32m----> 2\u001b[0m result_list \u001b[38;5;241m=\u001b[39m [num \u001b[38;5;28;01mif\u001b[39;00m num \u001b[38;5;241m>\u001b[39m\u001b[38;5;241m=\u001b[39m \u001b[38;5;241m0\u001b[39m \u001b[38;5;28;01melse\u001b[39;00m index \u001b[38;5;28;01mfor\u001b[39;00m index, num \u001b[38;5;129;01min\u001b[39;00m \u001b[38;5;28menumerate\u001b[39m(l2)]\n",
      "\u001b[1;31mNameError\u001b[0m: name 'l2' is not defined"
     ]
    }
   ],
   "source": [
    "#4.19) Создать список, в котором все отрицательные числа списка l2 заменены на их номер в списке, остальные элементы сохранены на своих местах. Использовать генераторы и тернарный оператор, решить задачу в одну строку.\n",
    "result_list = [num if num >= 0 else index for index, num in enumerate(l2)]"
   ]
  },
  {
   "cell_type": "code",
   "execution_count": null,
   "id": "f089ddac",
   "metadata": {},
   "outputs": [],
   "source": [
    "\n",
    "\n"
   ]
  }
 ],
 "metadata": {
  "kernelspec": {
   "display_name": "Python 3 (ipykernel)",
   "language": "python",
   "name": "python3"
  },
  "language_info": {
   "codemirror_mode": {
    "name": "ipython",
    "version": 3
   },
   "file_extension": ".py",
   "mimetype": "text/x-python",
   "name": "python",
   "nbconvert_exporter": "python",
   "pygments_lexer": "ipython3",
   "version": "3.11.5"
  }
 },
 "nbformat": 4,
 "nbformat_minor": 5
}
