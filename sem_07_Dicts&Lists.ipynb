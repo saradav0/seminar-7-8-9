{
 "cells": [
  {
   "cell_type": "markdown",
   "id": "8f5a889a",
   "metadata": {},
   "source": [
    "sem_07_Dicts&Lists\n"
   ]
  },
  {
   "cell_type": "code",
   "execution_count": 1,
   "id": "17aab276",
   "metadata": {},
   "outputs": [
    {
     "name": "stdout",
     "output_type": "stream",
     "text": [
      "{'a': 1, 'b': 2, 'c': 3, 'd': 4, 'e': 5, 'f': 6}\n"
     ]
    }
   ],
   "source": [
    "#1) На основе переданной строки (не содержащей повторяющихся символов) создать словарь, в котром каждому символу строки будет \n",
    "#соответствовать номер символа в строке. Пример: строка 'abcdef'\n",
    "\n",
    "def create_char_dict(input_string):\n",
    "    char_dict = {char: index + 1 for index, char in enumerate(input_string)}\n",
    "    return char_dict\n",
    "\n",
    "input_string = 'abcdef'\n",
    "result_dict = create_char_dict(input_string)\n",
    "print(result_dict)\n"
   ]
  },
  {
   "cell_type": "code",
   "execution_count": 2,
   "id": "eae0bf7e",
   "metadata": {},
   "outputs": [
    {
     "name": "stdout",
     "output_type": "stream",
     "text": [
      "3\n"
     ]
    }
   ],
   "source": [
    "#2) Определить сколько элементов заданного списка содержится в словаре. Пример: определить сколько \n",
    "    #элементов списка l1 содержится в словаре d1 \n",
    "def count_elements_in_dict(input_list, input_dict):\n",
    "    count = sum(1 for element in input_list if element in input_dict)\n",
    "    return count\n",
    "\n",
    "# Пример использования:\n",
    "l1 = ['a', 'b', 'c']\n",
    "d1 = {'a': 1, 'b': 2, 'c': 3, 'd': 4}\n",
    "\n",
    "result_count = count_elements_in_dict(l1, d1)\n",
    "print(result_count)"
   ]
  },
  {
   "cell_type": "code",
   "execution_count": 3,
   "id": "148a6b2d",
   "metadata": {},
   "outputs": [
    {
     "name": "stdout",
     "output_type": "stream",
     "text": [
      "{'e': 3, 'v': 1, 'g': 1, 'n': 1, '_': 1, 'o': 1}\n"
     ]
    }
   ],
   "source": [
    "#3) Для строки evgene_o создать словарь где для всех символов, встречающихся в строке хранится число: сколько раз символ \n",
    "    #встретился в строке evgene_o.\n",
    "input_string = 'evgene_o'\n",
    "\n",
    "char_count_dict = {}\n",
    "for char in input_string:\n",
    "    if char in char_count_dict:\n",
    "        char_count_dict[char] += 1\n",
    "    else:\n",
    "        char_count_dict[char] = 1\n",
    "\n",
    "print(char_count_dict)"
   ]
  },
  {
   "cell_type": "code",
   "execution_count": 4,
   "id": "25095f08",
   "metadata": {},
   "outputs": [
    {
     "name": "stdout",
     "output_type": "stream",
     "text": [
      "{'a': 1, 'b': 2, 'c': 3, 'd': 4, 'e': 5, 'f': 6}\n"
     ]
    }
   ],
   "source": [
    "#5) Написать код, который создает новый словарь с именем dic4, содержащий все пары ключ-значение из словарей \n",
    "#dic1, dic2, dic3.\n",
    "dic1 = {'a': 1, 'b': 2}\n",
    "dic2 = {'c': 3, 'd': 4}\n",
    "dic3 = {'e': 5, 'f': 6}\n",
    "\n",
    "dic4 = {}\n",
    "for d in [dic1, dic2, dic3]:\n",
    "    dic4.update(d)\n",
    "\n",
    "print(dic4)"
   ]
  },
  {
   "cell_type": "code",
   "execution_count": 5,
   "id": "d3911741",
   "metadata": {},
   "outputs": [
    {
     "name": "stdout",
     "output_type": "stream",
     "text": [
      "21\n"
     ]
    }
   ],
   "source": [
    "#6) Просуммировать все значения из словаря dic4\n",
    "dic4 = {'a': 1, 'b': 2, 'c': 3, 'd': 4, 'e': 5, 'f': 6}\n",
    "\n",
    "total_sum = sum(dic4.values())\n",
    "\n",
    "print(total_sum)\n"
   ]
  },
  {
   "cell_type": "code",
   "execution_count": 10,
   "id": "2d845cf1",
   "metadata": {},
   "outputs": [
    {
     "name": "stdout",
     "output_type": "stream",
     "text": [
      "720\n"
     ]
    }
   ],
   "source": [
    "#7) Перемножить все значения из словаря dic4\n",
    "from functools import reduce\n",
    "import operator\n",
    "\n",
    "dic4 = {'a': 1, 'b': 2, 'c': 3, 'd': 4, 'e': 5, 'f': 6}\n",
    "\n",
    "product_result = reduce(operator.mul, dic4.values(), 1)\n",
    "\n",
    "print(product_result)"
   ]
  },
  {
   "cell_type": "code",
   "execution_count": 9,
   "id": "7bbac137",
   "metadata": {},
   "outputs": [
    {
     "ename": "TypeError",
     "evalue": "unsupported operand type(s) for +: 'int' and 'str'",
     "output_type": "error",
     "traceback": [
      "\u001b[1;31m---------------------------------------------------------------------------\u001b[0m",
      "\u001b[1;31mTypeError\u001b[0m                                 Traceback (most recent call last)",
      "Cell \u001b[1;32mIn[9], line 4\u001b[0m\n\u001b[0;32m      1\u001b[0m \u001b[38;5;66;03m#8) Просуммировать произведения ключей на словаря dic4 на соответствующие им значения\u001b[39;00m\n\u001b[0;32m      2\u001b[0m dic4 \u001b[38;5;241m=\u001b[39m {\u001b[38;5;124m'\u001b[39m\u001b[38;5;124ma\u001b[39m\u001b[38;5;124m'\u001b[39m: \u001b[38;5;241m1\u001b[39m, \u001b[38;5;124m'\u001b[39m\u001b[38;5;124mb\u001b[39m\u001b[38;5;124m'\u001b[39m: \u001b[38;5;241m2\u001b[39m, \u001b[38;5;124m'\u001b[39m\u001b[38;5;124mc\u001b[39m\u001b[38;5;124m'\u001b[39m: \u001b[38;5;241m3\u001b[39m, \u001b[38;5;124m'\u001b[39m\u001b[38;5;124md\u001b[39m\u001b[38;5;124m'\u001b[39m: \u001b[38;5;241m4\u001b[39m, \u001b[38;5;124m'\u001b[39m\u001b[38;5;124me\u001b[39m\u001b[38;5;124m'\u001b[39m: \u001b[38;5;241m5\u001b[39m, \u001b[38;5;124m'\u001b[39m\u001b[38;5;124mf\u001b[39m\u001b[38;5;124m'\u001b[39m: \u001b[38;5;241m6\u001b[39m}\n\u001b[1;32m----> 4\u001b[0m result_sum \u001b[38;5;241m=\u001b[39m \u001b[38;5;28msum\u001b[39m(key \u001b[38;5;241m*\u001b[39m value \u001b[38;5;28;01mfor\u001b[39;00m key, value \u001b[38;5;129;01min\u001b[39;00m dic4\u001b[38;5;241m.\u001b[39mitems())\n\u001b[0;32m      6\u001b[0m \u001b[38;5;28mprint\u001b[39m(\u001b[38;5;28mint\u001b[39m(result_sum))\n",
      "\u001b[1;31mTypeError\u001b[0m: unsupported operand type(s) for +: 'int' and 'str'"
     ]
    }
   ],
   "source": [
    "#8) Просуммировать произведения ключей на словаря dic4 на соответствующие им значения\n",
    "dic4 = {'a': 1, 'b': 2, 'c': 3, 'd': 4, 'e': 5, 'f': 6}\n",
    "\n",
    "result_sum = sum(key * value for key, value in dic4.items())\n",
    "\n",
    "print(int(result_sum))"
   ]
  },
  {
   "cell_type": "code",
   "execution_count": 11,
   "id": "ec1c4264",
   "metadata": {},
   "outputs": [
    {
     "name": "stdout",
     "output_type": "stream",
     "text": [
      "{'a': 1, 'b': 2, 'c': 3, 'd': 5, 'e': 6}\n"
     ]
    }
   ],
   "source": [
    "#10) Создать словарь dic8 в котором есть все пары ключ-значения из dic5, а для ключей, которые есть в dic6, но отсутствуют в \n",
    "#dic5 добавить соответствующие пары ключ-значения в dic8.\n",
    "dic5 = {'a': 1, 'b': 2, 'c': 3}\n",
    "dic6 = {'b': 4, 'd': 5, 'e': 6}\n",
    "\n",
    "dic8 = dic5.copy()\n",
    "\n",
    "for key, value in dic6.items():\n",
    "    if key not in dic8:\n",
    "        dic8[key] = value\n",
    "\n",
    "print(dic8)\n"
   ]
  },
  {
   "cell_type": "code",
   "execution_count": 12,
   "id": "314ed39c",
   "metadata": {},
   "outputs": [
    {
     "name": "stdout",
     "output_type": "stream",
     "text": [
      "[1, 2, 3, 4, 5, 6, 9]\n"
     ]
    }
   ],
   "source": [
    "#11) Из списка ri1 получить упорядоченный по возрастанию список не имеющий повторяющихся значений.\n",
    "ri1 = [3, 1, 4, 1, 5, 9, 2, 6, 5, 3, 5]\n",
    "\n",
    "sorted_unique_list = sorted(set(ri1))\n",
    "\n",
    "print(sorted_unique_list)\n"
   ]
  },
  {
   "cell_type": "code",
   "execution_count": 13,
   "id": "4db3ff0e",
   "metadata": {},
   "outputs": [
    {
     "name": "stdout",
     "output_type": "stream",
     "text": [
      "[1, 3, 4, 7, 9, 2]\n"
     ]
    }
   ],
   "source": [
    "#11.2) Используя распаковку из списка списков сделать список, содержащий последовательность первых и последних значений \n",
    "#вложенных списков и сохраняющий порядок их следования.\n",
    "#Пример: [[1, 2, 3], [4, 5, 6, 7], [9, 2]] -> [1, 3, 4, 7, 9, 2]\n",
    "nested_lists = [[1, 2, 3], [4, 5, 6, 7], [9, 2]]\n",
    "\n",
    "result_list = [item for sublist in nested_lists for item in [sublist[0], sublist[-1]]]\n",
    "\n",
    "print(result_list)"
   ]
  },
  {
   "cell_type": "code",
   "execution_count": 15,
   "id": "ec46402b",
   "metadata": {},
   "outputs": [
    {
     "name": "stdout",
     "output_type": "stream",
     "text": [
      "{}\n"
     ]
    }
   ],
   "source": [
    "\n"
   ]
  },
  {
   "cell_type": "code",
   "execution_count": null,
   "id": "355595b7",
   "metadata": {},
   "outputs": [],
   "source": []
  }
 ],
 "metadata": {
  "kernelspec": {
   "display_name": "Python 3 (ipykernel)",
   "language": "python",
   "name": "python3"
  },
  "language_info": {
   "codemirror_mode": {
    "name": "ipython",
    "version": 3
   },
   "file_extension": ".py",
   "mimetype": "text/x-python",
   "name": "python",
   "nbconvert_exporter": "python",
   "pygments_lexer": "ipython3",
   "version": "3.11.5"
  }
 },
 "nbformat": 4,
 "nbformat_minor": 5
}
